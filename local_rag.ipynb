{
 "cells": [
  {
   "cell_type": "markdown",
   "metadata": {
    "colab_type": "text",
    "id": "view-in-github"
   },
   "source": [
    "<a href=\"https://colab.research.google.com/github/alarcon7a/Langchain-con-Ollama/blob/main/local_rag.ipynb\" target=\"_parent\"><img src=\"https://colab.research.google.com/assets/colab-badge.svg\" alt=\"Open In Colab\"/></a>"
   ]
  },
  {
   "cell_type": "code",
   "execution_count": null,
   "id": "a427e3b219ad4983",
   "metadata": {
    "id": "a427e3b219ad4983"
   },
   "outputs": [],
   "source": [
    "#!pip install fastembed langchain langchain_community PyMuPDF chromadb"
   ]
  },
  {
   "cell_type": "markdown",
   "id": "609696e2cbc36f00",
   "metadata": {
    "id": "609696e2cbc36f00"
   },
   "source": [
    "## Ollama from langchain"
   ]
  },
  {
   "cell_type": "code",
   "execution_count": null,
   "id": "initial_id",
   "metadata": {
    "ExecuteTime": {
     "end_time": "2024-05-07T04:48:25.727440Z",
     "start_time": "2024-05-07T04:48:03.117052Z"
    },
    "collapsed": true,
    "id": "initial_id"
   },
   "outputs": [],
   "source": [
    "from langchain_community.llms import Ollama\n",
    "\n",
    "llm = Ollama(model=\"llama3\")\n",
    "\n",
    "llm.invoke(\"Hola, quien eres?\")"
   ]
  },
  {
   "cell_type": "markdown",
   "id": "2f6c4046251edad",
   "metadata": {
    "id": "2f6c4046251edad"
   },
   "source": [
    "## RAG"
   ]
  },
  {
   "cell_type": "markdown",
   "id": "37c2e425161bbe10",
   "metadata": {
    "id": "37c2e425161bbe10"
   },
   "source": [
    "### Load Document"
   ]
  },
  {
   "cell_type": "code",
   "execution_count": null,
   "id": "e535977811b3eaaa",
   "metadata": {
    "ExecuteTime": {
     "end_time": "2024-05-07T04:48:26.105535Z",
     "start_time": "2024-05-07T04:48:25.729887Z"
    },
    "id": "e535977811b3eaaa"
   },
   "outputs": [],
   "source": [
    "from langchain_community.document_loaders import PyMuPDFLoader\n",
    "\n",
    "loader = PyMuPDFLoader(\"src/conversations.json\")"
   ]
  },
  {
   "cell_type": "code",
   "execution_count": null,
   "id": "aed45119c2090e4f",
   "metadata": {
    "ExecuteTime": {
     "end_time": "2024-05-07T04:48:33.783299Z",
     "start_time": "2024-05-07T04:48:26.107317Z"
    },
    "id": "aed45119c2090e4f"
   },
   "outputs": [],
   "source": [
    "data_pdf = loader.load()"
   ]
  },
  {
   "cell_type": "code",
   "execution_count": null,
   "id": "46ce479e22ee5646",
   "metadata": {
    "ExecuteTime": {
     "end_time": "2024-05-07T04:48:33.789542Z",
     "start_time": "2024-05-07T04:48:33.785472Z"
    },
    "id": "46ce479e22ee5646"
   },
   "outputs": [],
   "source": [
    "data_pdf[1]"
   ]
  },
  {
   "cell_type": "code",
   "execution_count": null,
   "id": "29127546585240e1",
   "metadata": {
    "ExecuteTime": {
     "end_time": "2024-05-07T04:48:33.884111Z",
     "start_time": "2024-05-07T04:48:33.790718Z"
    },
    "id": "29127546585240e1"
   },
   "outputs": [],
   "source": [
    "from langchain.text_splitter import RecursiveCharacterTextSplitter\n",
    "text_splitter = RecursiveCharacterTextSplitter(chunk_size=2000, chunk_overlap=500)\n",
    "docs = text_splitter.split_documents(data_pdf)"
   ]
  },
  {
   "cell_type": "code",
   "execution_count": null,
   "id": "290fafdb4213c62b",
   "metadata": {
    "ExecuteTime": {
     "end_time": "2024-05-07T04:48:33.889526Z",
     "start_time": "2024-05-07T04:48:33.885436Z"
    },
    "id": "290fafdb4213c62b"
   },
   "outputs": [],
   "source": [
    "docs[2]"
   ]
  },
  {
   "cell_type": "code",
   "execution_count": null,
   "id": "e52f820a6200c0f2",
   "metadata": {
    "ExecuteTime": {
     "end_time": "2024-05-07T04:48:33.905584Z",
     "start_time": "2024-05-07T04:48:33.890614Z"
    },
    "id": "e52f820a6200c0f2"
   },
   "outputs": [],
   "source": [
    "docs[3]"
   ]
  },
  {
   "cell_type": "code",
   "execution_count": null,
   "id": "fbc2f7d236e5f652",
   "metadata": {
    "ExecuteTime": {
     "end_time": "2024-05-07T04:48:35.263166Z",
     "start_time": "2024-05-07T04:48:33.906941Z"
    },
    "id": "fbc2f7d236e5f652"
   },
   "outputs": [],
   "source": [
    "from langchain_community.embeddings.fastembed import FastEmbedEmbeddings\n",
    "embed_model = FastEmbedEmbeddings(model_name=\"sentence-transformers/all-MiniLM-L6-v2\")"
   ]
  },
  {
   "cell_type": "code",
   "execution_count": null,
   "id": "b8690559a38ae72c",
   "metadata": {
    "ExecuteTime": {
     "end_time": "2024-05-07T04:50:50.200097Z",
     "start_time": "2024-05-07T04:49:42.943717Z"
    },
    "id": "b8690559a38ae72c"
   },
   "outputs": [],
   "source": [
    "from langchain_community.vectorstores import Chroma\n",
    "\n",
    "vs = Chroma.from_documents(\n",
    "    documents=docs,\n",
    "    embedding=embed_model,\n",
    "    persist_directory=\"chroma_db_dir\",  # Local mode with in-memory storage only\n",
    "    collection_name=\"stanford_report_data\"\n",
    ")"
   ]
  },
  {
   "cell_type": "code",
   "execution_count": null,
   "id": "491315bd48fe2b3a",
   "metadata": {
    "ExecuteTime": {
     "end_time": "2024-05-07T04:51:59.633151Z",
     "start_time": "2024-05-07T04:51:59.615279Z"
    },
    "id": "491315bd48fe2b3a"
   },
   "outputs": [],
   "source": [
    "vectorstore = Chroma(embedding_function=embed_model,\n",
    "                     persist_directory=\"chroma_db_dir\",\n",
    "                     collection_name=\"stanford_report_data\")\n",
    "retriever=vectorstore.as_retriever(search_kwargs={'k': 3})\n"
   ]
  },
  {
   "cell_type": "code",
   "execution_count": null,
   "id": "be4ecf951a8e7dba",
   "metadata": {
    "ExecuteTime": {
     "end_time": "2024-05-07T04:58:57.064376Z",
     "start_time": "2024-05-07T04:58:57.060843Z"
    },
    "id": "be4ecf951a8e7dba"
   },
   "outputs": [],
   "source": [
    "from langchain.prompts import PromptTemplate\n",
    "\n",
    "custom_prompt_template = \"\"\"Usa la siguiente información para responder a la pregunta del usuario.\n",
    "Si no sabes la respuesta, simplemente di que no lo sabes, no intentes inventar una respuesta.\n",
    "\n",
    "Contexto: {context}\n",
    "Pregunta: {question}\n",
    "\n",
    "Solo devuelve la respuesta útil a continuación y nada más y responde siempre en español\n",
    "Respuesta útil:\n",
    "\"\"\"\n",
    "prompt = PromptTemplate(template=custom_prompt_template,\n",
    "                        input_variables=['context', 'question'])"
   ]
  },
  {
   "cell_type": "code",
   "execution_count": null,
   "id": "d9bb4df68390ea68",
   "metadata": {
    "ExecuteTime": {
     "end_time": "2024-05-07T04:58:59.535953Z",
     "start_time": "2024-05-07T04:58:59.532673Z"
    },
    "id": "d9bb4df68390ea68"
   },
   "outputs": [],
   "source": [
    "from langchain.chains import RetrievalQA\n",
    "\n",
    "qa = RetrievalQA.from_chain_type(llm=llm,\n",
    "                                 chain_type=\"stuff\",\n",
    "                                 retriever=retriever,\n",
    "                                 return_source_documents=True,\n",
    "                                 chain_type_kwargs={\"prompt\": prompt})"
   ]
  },
  {
   "cell_type": "code",
   "execution_count": null,
   "id": "aff152852bbbcae",
   "metadata": {
    "ExecuteTime": {
     "end_time": "2024-05-07T04:54:55.348321Z",
     "start_time": "2024-05-07T04:54:10.731031Z"
    },
    "id": "aff152852bbbcae"
   },
   "outputs": [],
   "source": [
    "response = qa.invoke({\"query\": \"Cual es el comportamiento de los modelos fundacionales?\"})"
   ]
  },
  {
   "cell_type": "code",
   "execution_count": null,
   "id": "a1347043e3e2d371",
   "metadata": {
    "ExecuteTime": {
     "end_time": "2024-05-07T04:55:08.287886Z",
     "start_time": "2024-05-07T04:55:08.283135Z"
    },
    "id": "a1347043e3e2d371"
   },
   "outputs": [],
   "source": [
    "response['result']"
   ]
  },
  {
   "cell_type": "code",
   "execution_count": null,
   "id": "c747508f1da46dc3",
   "metadata": {
    "ExecuteTime": {
     "end_time": "2024-05-07T04:59:12.673266Z",
     "start_time": "2024-05-07T04:59:04.476662Z"
    },
    "id": "c747508f1da46dc3"
   },
   "outputs": [],
   "source": [
    "response = qa.invoke({\"query\": \"que es QLoRA?, explicamelo en detalle\"})\n",
    "response\n"
   ]
  },
  {
   "cell_type": "code",
   "execution_count": null,
   "id": "18c810ef0ecd7433",
   "metadata": {
    "ExecuteTime": {
     "end_time": "2024-05-07T04:59:12.677758Z",
     "start_time": "2024-05-07T04:59:12.674430Z"
    },
    "id": "18c810ef0ecd7433"
   },
   "outputs": [],
   "source": [
    "response['result']"
   ]
  },
  {
   "cell_type": "code",
   "execution_count": null,
   "id": "b1ebae3dbea446df",
   "metadata": {
    "ExecuteTime": {
     "end_time": "2024-05-07T05:00:07.923439Z",
     "start_time": "2024-05-07T05:00:07.917548Z"
    },
    "id": "b1ebae3dbea446df"
   },
   "outputs": [],
   "source": [
    "metadata = []\n",
    "for _ in response['source_documents']:\n",
    "    metadata.append((_.metadata['page'], _.metadata['file_path']))\n",
    "metadata"
   ]
  }
 ],
 "metadata": {
  "colab": {
   "include_colab_link": true,
   "provenance": [],
   "toc_visible": true
  },
  "kernelspec": {
   "display_name": "Python 3",
   "language": "python",
   "name": "python3"
  },
  "language_info": {
   "codemirror_mode": {
    "name": "ipython",
    "version": 2
   },
   "file_extension": ".py",
   "mimetype": "text/x-python",
   "name": "python",
   "nbconvert_exporter": "python",
   "pygments_lexer": "ipython2",
   "version": "2.7.6"
  }
 },
 "nbformat": 4,
 "nbformat_minor": 5
}
